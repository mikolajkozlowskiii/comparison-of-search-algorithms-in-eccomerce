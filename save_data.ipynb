{
 "cells": [
  {
   "cell_type": "code",
   "id": "initial_id",
   "metadata": {
    "collapsed": true,
    "ExecuteTime": {
     "end_time": "2025-01-01T23:44:39.448087Z",
     "start_time": "2025-01-01T23:44:39.431050Z"
    }
   },
   "source": "import pandas as pd",
   "outputs": [],
   "execution_count": 8
  },
  {
   "metadata": {
    "ExecuteTime": {
     "end_time": "2025-01-01T23:44:39.457668Z",
     "start_time": "2025-01-01T23:44:39.454783Z"
    }
   },
   "cell_type": "code",
   "source": [
    "splits = {\n",
    "    'train': 'data/train-00000-of-00001.parquet',\n",
    "    'test': 'data/test-00000-of-00001.parquet',\n",
    "    'eval': 'data/eval-00000-of-00001.parquet'\n",
    "}\n",
    "\n",
    "base_path = \"hf://datasets/ckandemir/amazon-products/\"\n",
    "\n",
    "dataframes = []"
   ],
   "id": "c265c0eafa9693db",
   "outputs": [],
   "execution_count": 9
  },
  {
   "metadata": {
    "ExecuteTime": {
     "end_time": "2025-01-01T23:44:44.207907Z",
     "start_time": "2025-01-01T23:44:39.469077Z"
    }
   },
   "cell_type": "code",
   "source": [
    "for split_name, file_path in splits.items():\n",
    "    full_path = base_path + file_path\n",
    "    df_split = pd.read_parquet(full_path)  \n",
    "    df_split['split'] = split_name \n",
    "    dataframes.append(df_split) "
   ],
   "id": "ac0447da86a522a5",
   "outputs": [],
   "execution_count": 10
  },
  {
   "metadata": {
    "ExecuteTime": {
     "end_time": "2025-01-01T23:44:44.224962Z",
     "start_time": "2025-01-01T23:44:44.219266Z"
    }
   },
   "cell_type": "code",
   "source": "df_combined = pd.concat(dataframes, ignore_index=True)",
   "id": "f269bef36b740a08",
   "outputs": [],
   "execution_count": 11
  },
  {
   "metadata": {
    "ExecuteTime": {
     "end_time": "2025-01-01T23:44:52.094125Z",
     "start_time": "2025-01-01T23:44:52.087370Z"
    }
   },
   "cell_type": "code",
   "source": "df_combined.shape",
   "id": "ff4c49bd02fff8a4",
   "outputs": [
    {
     "data": {
      "text/plain": [
       "(33324, 7)"
      ]
     },
     "execution_count": 12,
     "metadata": {},
     "output_type": "execute_result"
    }
   ],
   "execution_count": 12
  },
  {
   "metadata": {
    "ExecuteTime": {
     "end_time": "2025-01-01T23:45:11.807966Z",
     "start_time": "2025-01-01T23:45:11.796041Z"
    }
   },
   "cell_type": "code",
   "source": "df_combined.columns",
   "id": "5612dd5cb669d0d6",
   "outputs": [
    {
     "data": {
      "text/plain": [
       "Index(['Product Name', 'Category', 'Description', 'Selling Price',\n",
       "       'Product Specification', 'Image', 'split'],\n",
       "      dtype='object')"
      ]
     },
     "execution_count": 13,
     "metadata": {},
     "output_type": "execute_result"
    }
   ],
   "execution_count": 13
  },
  {
   "metadata": {
    "ExecuteTime": {
     "end_time": "2025-01-01T23:46:15.003193Z",
     "start_time": "2025-01-01T23:46:14.759248Z"
    }
   },
   "cell_type": "code",
   "source": "df_combined.to_csv(\"amazon_products_combined.csv\", index=False)",
   "id": "d556afd1f64ba30a",
   "outputs": [],
   "execution_count": 14
  }
 ],
 "metadata": {
  "kernelspec": {
   "display_name": "Python 3",
   "language": "python",
   "name": "python3"
  },
  "language_info": {
   "codemirror_mode": {
    "name": "ipython",
    "version": 2
   },
   "file_extension": ".py",
   "mimetype": "text/x-python",
   "name": "python",
   "nbconvert_exporter": "python",
   "pygments_lexer": "ipython2",
   "version": "2.7.6"
  }
 },
 "nbformat": 4,
 "nbformat_minor": 5
}
